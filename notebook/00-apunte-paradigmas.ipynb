{
 "cells": [
  {
   "attachments": {},
   "cell_type": "markdown",
   "id": "998eda16",
   "metadata": {},
   "source": [
    "# Haskell\n",
    "... for OOP(rogrammers)\n",
    "\n",
    "Una introducción amigable al paradigma funcional"
   ]
  },
  {
   "attachments": {},
   "cell_type": "markdown",
   "id": "87a8e7fb",
   "metadata": {},
   "source": [
    "## ¿Qué es Haskell?\n",
    "\n",
    "1. Es un lenguaje de programación\n",
    "2. Utiliza el paradigma funcional\n",
    "\t1. Las funciones son ciudadanos de _primer nivel_.\n",
    "\t2. Evaluación de expresiones en lugar de ejecución de instrucciones.\n",
    "3. Es un lenguaje **funcional puro**\n",
    "\t1. Es inmutable por diseño\n",
    "\t2. El ser inmutable garantiza la ausencia de efectos secundarios\n",
    "\t3. Tiene características de idempotencia\n",
    "4. Es un lenguaje con evaluación tardía (lazy)"
   ]
  },
  {
   "attachments": {},
   "cell_type": "markdown",
   "id": "940b8518",
   "metadata": {},
   "source": [
    "## Primera prueba con Haskell\n",
    "\n",
    "1. Abrir el navegador e ir a: `https://repl.it/languages/haskell`  \n",
    "**Plan B:** `https://tio.run/#haskell`  \n",
    "**Plan C:** `https://paiza.io/en/languages/haskell`\n",
    "2. Tipeamos el siguiente código"
   ]
  },
  {
   "cell_type": "code",
   "execution_count": 68,
   "metadata": {},
   "outputs": [
    {
     "data": {
      "text/plain": [
       "1764"
      ]
     },
     "metadata": {},
     "output_type": "display_data"
    }
   ],
   "source": [
    "  square x = x * x\n",
    "  square 42"
   ]
  },
  {
   "attachments": {},
   "cell_type": "markdown",
   "id": "4ad43624",
   "metadata": {},
   "source": [
    "3. Presionamos **Run**\n",
    "4. ¿Qué obtenemos?"
   ]
  },
  {
   "attachments": {},
   "cell_type": "markdown",
   "id": "5a96f0b0",
   "metadata": {},
   "source": [
    "## Otro enfoque: ¿qué hace el siguiente código?\n",
    "\n",
    "```java\n",
    "int[] lst = {2, 3, 5, 7, 11};\n",
    "\n",
    "int total = 0;\n",
    "for (int i = 0; i < lst.length; i++)\n",
    "  total = total + 3 * lst[i]; // indexitis!\n",
    "\n",
    "System.out.println(total);\n",
    "```"
   ]
  },
  {
   "attachments": {},
   "cell_type": "markdown",
   "id": "e6b1cd9b",
   "metadata": {},
   "source": [
    "## Mismo ejemplo, ahora con Haskell"
   ]
  },
  {
   "cell_type": "code",
   "execution_count": 69,
   "id": "4ab738db",
   "metadata": {},
   "outputs": [
    {
     "data": {
      "text/plain": [
       "84"
      ]
     },
     "metadata": {},
     "output_type": "display_data"
    }
   ],
   "source": [
    "lst = [2, 3, 5, 7, 11]\n",
    "total = sum (map (3*) lst)\n",
    "total"
   ]
  },
  {
   "attachments": {},
   "cell_type": "markdown",
   "id": "c8d26e9b",
   "metadata": {},
   "source": [
    "## Parte 1: La fácil\n",
    "\n",
    "### Funciones propias"
   ]
  },
  {
   "cell_type": "code",
   "execution_count": 70,
   "id": "2345dfe0",
   "metadata": {},
   "outputs": [
    {
     "data": {
      "text/plain": [
       "25"
      ]
     },
     "metadata": {},
     "output_type": "display_data"
    }
   ],
   "source": [
    "sumar :: Int -> Int -> Int\n",
    "sumar x y = x + y\n",
    "\n",
    "sumar 10 15"
   ]
  },
  {
   "attachments": {},
   "cell_type": "markdown",
   "id": "6b23b3e4",
   "metadata": {},
   "source": [
    "### Entrando en calor"
   ]
  },
  {
   "cell_type": "code",
   "execution_count": 71,
   "id": "8257346d",
   "metadata": {},
   "outputs": [
    {
     "data": {
      "text/plain": [
       "55"
      ]
     },
     "metadata": {},
     "output_type": "display_data"
    }
   ],
   "source": [
    "sumatoria :: Int -> Int\n",
    "sumatoria 0 = 0\n",
    "sumatoria n = n + sumatoria (n - 1)\n",
    "\n",
    "sumatoria 10"
   ]
  },
  {
   "attachments": {},
   "cell_type": "markdown",
   "id": "5daddda5",
   "metadata": {},
   "source": [
    "### Condicionales\n",
    "\n",
    "Ref: https://rosettacode.org/wiki/Hailstone_sequence#Haskell"
   ]
  },
  {
   "cell_type": "code",
   "execution_count": 72,
   "id": "b85fbc09",
   "metadata": {},
   "outputs": [
    {
     "data": {
      "text/plain": [
       "[10,4,2,4]"
      ]
     },
     "metadata": {},
     "output_type": "display_data"
    }
   ],
   "source": [
    "hailstone :: Int -> Int\n",
    "hailstone n = if even n\n",
    "  then n `div` 2\n",
    "  else 3 * n + 1\n",
    "  \n",
    "map hailstone [3, 8, 4, 1]"
   ]
  },
  {
   "attachments": {},
   "cell_type": "markdown",
   "id": "29e938cf",
   "metadata": {},
   "source": [
    "### Ejercicio: Fibonacci\n",
    "\n",
    "`?`\n"
   ]
  },
  {
   "cell_type": "code",
   "execution_count": 73,
   "id": "91d9b641",
   "metadata": {},
   "outputs": [
    {
     "data": {
      "text/plain": [
       "55"
      ]
     },
     "metadata": {},
     "output_type": "display_data"
    }
   ],
   "source": [
    "fibonacci :: Int -> Int\n",
    "fibonacci 0 = 0\n",
    "fibonacci 1 = 1\n",
    "fibonacci n = fibonacci (n - 1) + fibonacci (n - 2)\n",
    "\n",
    "fibonacci 10"
   ]
  },
  {
   "attachments": {},
   "cell_type": "markdown",
   "id": "e9f3d812",
   "metadata": {},
   "source": [
    "### Funciones sobre listas"
   ]
  },
  {
   "cell_type": "code",
   "execution_count": null,
   "id": "370b42b5",
   "metadata": {},
   "outputs": [],
   "source": [
    "-- ¿Qué hace este código?\n",
    "misterio :: [Int] -> Int\n",
    "misterio [] = 0\n",
    "misterio (x:xs) = 1 + misterio xs\n",
    "\n",
    "misterio [1, 2, 3, 4, 5]"
   ]
  },
  {
   "attachments": {},
   "cell_type": "markdown",
   "id": "6d15ac81",
   "metadata": {},
   "source": [
    "### Funciones sobre listas"
   ]
  },
  {
   "cell_type": "code",
   "execution_count": null,
   "id": "50ad26dd",
   "metadata": {},
   "outputs": [],
   "source": [
    "-- ¿Y este otro?\n",
    "misterioDos :: [Int] -> [Int]\n",
    "misterioDos []     = []\n",
    "misterioDos (x:xs) = (x * x) : (misterioDos xs)\n",
    "\n",
    "misterioDos [1, 2, 3, 4, 5]"
   ]
  },
  {
   "attachments": {},
   "cell_type": "markdown",
   "id": "1217dc01",
   "metadata": {},
   "source": [
    "### Ejercicio: Contar los elementos pares de una lista"
   ]
  },
  {
   "cell_type": "code",
   "execution_count": null,
   "id": "caca6ab5",
   "metadata": {},
   "outputs": [],
   "source": [
    "contar :: Int -> Int\n",
    "contar x = if x `mod` 2 == 0\n",
    "  then 1\n",
    "  else 0\n",
    "\n",
    "contarPares :: [Int] -> Int\n",
    "contarPares [] = 0\n",
    "contarPares (x:xs) = (contar x) + contarPares xs\n",
    "\n",
    "contarPares [1, 2, 3, 4, 5, 6]"
   ]
  },
  {
   "attachments": {},
   "cell_type": "markdown",
   "id": "af211919",
   "metadata": {},
   "source": [
    "> **Quiz:** ¿Cómo hacemos para sumarlos?\n"
   ]
  },
  {
   "cell_type": "code",
   "execution_count": null,
   "id": "df4d5a7a",
   "metadata": {},
   "outputs": [],
   "source": [
    "sumar :: Int -> Int\n",
    "sumar x = if x `mod` 2 == 0\n",
    "  then x\n",
    "  else 0\n",
    "\n",
    "sumarPares :: [Int] -> Int\n",
    "sumarPares [] = 0\n",
    "sumarPares (x:xs) = (sumar x) + sumarPares xs\n",
    "\n",
    "sumarPares [1, 2, 3, 4, 5, 6]"
   ]
  },
  {
   "attachments": {},
   "cell_type": "markdown",
   "id": "58d051f1",
   "metadata": {},
   "source": [
    "### Bonus: Contar \"notables\""
   ]
  },
  {
   "cell_type": "code",
   "execution_count": null,
   "id": "80e0304a",
   "metadata": {},
   "outputs": [],
   "source": [
    "notable :: Int -> Int\n",
    "notable x = if x `mod` 2 == 0\n",
    "  then 1\n",
    "  else 0\n",
    "\n",
    "contarNotables :: (Int -> Int) -> [Int] -> Int\n",
    "contarNotables f [] = 0\n",
    "contarNotables f (x:xs) = (f x) + contarNotables f xs\n",
    "\n",
    "contarNotables notable [1, 2, 3, 4, 5, 6]"
   ]
  },
  {
   "attachments": {},
   "cell_type": "markdown",
   "id": "5de6293c",
   "metadata": {},
   "source": [
    "## Interludio: Algunas funciones pre-cocidas sobre listas\n",
    "\n",
    "### zip\n",
    "Combina dos listas en una lista de tuplas"
   ]
  },
  {
   "cell_type": "code",
   "execution_count": null,
   "id": "9852ddd8",
   "metadata": {},
   "outputs": [],
   "source": [
    "numbers1 = [1, 2, 3, 4]\n",
    "numbers2 = [10, 20, 30, 40]\n",
    "zip numbers1 numbers2"
   ]
  },
  {
   "attachments": {},
   "cell_type": "markdown",
   "id": "ab7c9f26",
   "metadata": {},
   "source": [
    "### fold (foldl / foldr)\n",
    "Combina los elementos de una lista en un solo valor"
   ]
  },
  {
   "cell_type": "code",
   "execution_count": null,
   "id": "56988424",
   "metadata": {},
   "outputs": [],
   "source": [
    "numbers = [1, 2, 3]\n",
    "foldl (^) 2 numbers"
   ]
  },
  {
   "attachments": {},
   "cell_type": "markdown",
   "id": "564aa242",
   "metadata": {},
   "source": [
    "### filter\n",
    "Filtra una lista por una condición dada"
   ]
  },
  {
   "cell_type": "code",
   "execution_count": null,
   "id": "f9da7eb9",
   "metadata": {},
   "outputs": [],
   "source": [
    "numbers = [1, 2, 3, 4, 5, 6, 7, 8, 9, 10]\n",
    "filter even numbers"
   ]
  },
  {
   "attachments": {},
   "cell_type": "markdown",
   "id": "7df4a2e9",
   "metadata": {},
   "source": [
    "## Parte 2: La moderada\n",
    "### Pattern Matching\n",
    "Es una técnica que permite descomponer y comparar patrones en datos estructurados. Se utiliza para realizar diferentes acciones o tomar decisiones según los patrones encontrados en los valores de entrada."
   ]
  },
  {
   "cell_type": "code",
   "execution_count": null,
   "id": "15714329",
   "metadata": {},
   "outputs": [
    {
     "data": {
      "text/plain": [
       "[4,5]"
      ]
     },
     "metadata": {},
     "output_type": "display_data"
    }
   ],
   "source": [
    "quitaTres :: [a] -> [a]\n",
    "quitaTres (_:_:_:xs) = xs\n",
    "quitaTres _          = []\n",
    "\n",
    "quitaTres [1,2,3,4,5]"
   ]
  },
  {
   "attachments": {},
   "cell_type": "markdown",
   "id": "54fb67bf",
   "metadata": {},
   "source": [
    "### Dos operadores notables\n",
    "\n",
    "* El operador `++` sirve para concatenar dos listas\n",
    "* El operador `:`, en cambio, sirve para agregar elementos antes de las listas\n"
   ]
  },
  {
   "cell_type": "code",
   "execution_count": null,
   "id": "a4b8bb99",
   "metadata": {},
   "outputs": [
    {
     "data": {
      "text/plain": [
       "[[1,2,3],[2,3,8,7]]"
      ]
     },
     "metadata": {},
     "output_type": "display_data"
    }
   ],
   "source": [
    "x = 1\n",
    "xs = [2, 3]\n",
    "\n",
    "y = 9\n",
    "ys = [8, 7]\n",
    "{-\n",
    "x:xs    -- válido\n",
    "x++xs   -- no válido\n",
    "\n",
    "xs:ys   -- no válido\n",
    "xs++ys  -- válido\n",
    "-}\n",
    "[x:xs, xs++ys]"
   ]
  },
  {
   "attachments": {},
   "cell_type": "markdown",
   "id": "2850004a",
   "metadata": {},
   "source": [
    "### Ejercicios:\n",
    "\n",
    "1. Hacer funciones para manejo de Cola (`enqueue` / `dequeue`)\n",
    "2. Hacer funciones para manejo de Pila (`push` / `pop`)\n",
    "\n",
    "#### Pistas\n",
    "\n",
    "```haskell\n",
    "-- cola\n",
    "enqueue :: a -> [a] -> [a]\n",
    "dequeue :: [a] -> (a, [a])\n",
    "\n",
    "-- pila\n",
    "push :: a -> [a] -> [a]\n",
    "pop :: [a] -> a\n",
    "```\n",
    "\n",
    "### Resoluciones\n"
   ]
  },
  {
   "cell_type": "code",
   "execution_count": null,
   "id": "d8942010",
   "metadata": {},
   "outputs": [
    {
     "data": {
      "text/plain": [
       "[1,2,3,9]"
      ]
     },
     "metadata": {},
     "output_type": "display_data"
    }
   ],
   "source": [
    "\n",
    "-- cola\n",
    "enqueue :: a -> [a] -> [a]\n",
    "enqueue x xs = xs++[x]\n",
    "\n",
    "enqueue 9 [1, 2, 3]"
   ]
  },
  {
   "cell_type": "code",
   "execution_count": null,
   "id": "75cdf4ab",
   "metadata": {},
   "outputs": [
    {
     "data": {
      "text/plain": [
       "1"
      ]
     },
     "metadata": {},
     "output_type": "display_data"
    }
   ],
   "source": [
    "-- cola\n",
    "dequeue :: [a] -> (a, [a])\n",
    "dequeue (x:xs) = (x, xs)\n",
    "\n",
    "(el, queue) = dequeue [1, 2, 3, 4]\n",
    "el"
   ]
  },
  {
   "cell_type": "code",
   "execution_count": null,
   "id": "22de8e10",
   "metadata": {},
   "outputs": [
    {
     "data": {
      "text/plain": [
       "[9,1,2,3]"
      ]
     },
     "metadata": {},
     "output_type": "display_data"
    }
   ],
   "source": [
    "-- pila\n",
    "push :: a -> [a] -> [a]\n",
    "push x xs = x:xs\n",
    "\n",
    "push 9 [1, 2, 3]"
   ]
  },
  {
   "cell_type": "code",
   "execution_count": null,
   "id": "cf45d123",
   "metadata": {},
   "outputs": [
    {
     "data": {
      "text/plain": [
       "[2,3,4]"
      ]
     },
     "metadata": {},
     "output_type": "display_data"
    }
   ],
   "source": [
    "-- pila\n",
    "pop :: [a] -> (a, [a])\n",
    "pop (x:xs) = (x, xs)\n",
    "\n",
    "(el, stack) = pop [1, 2, 3, 4]\n",
    "stack"
   ]
  },
  {
   "attachments": {},
   "cell_type": "markdown",
   "id": "e3e13191",
   "metadata": {},
   "source": [
    "## Parte 3: La difícil\n",
    "\n",
    "### Currying\n",
    "\n",
    "Es el proceso de transformar una función de múltiples argumentos en una secuencia de funciones que toman un solo argumento. Esto permite la aplicación parcial de argumentos y la creación de funciones más genéricas y flexibles.\n"
   ]
  },
  {
   "cell_type": "code",
   "execution_count": null,
   "id": "223604de",
   "metadata": {},
   "outputs": [
    {
     "data": {
      "text/plain": [
       "5"
      ]
     },
     "metadata": {},
     "output_type": "display_data"
    }
   ],
   "source": [
    "-- function :: Int -> Int -> Int\n",
    "function x y = x + y\n",
    "\n",
    "-- fun :: Int -> Int\n",
    "-- fun y = function 3 y\n",
    "fun = function 3\n",
    "\n",
    "fun 2"
   ]
  },
  {
   "attachments": {},
   "cell_type": "markdown",
   "id": "2fced0f7",
   "metadata": {},
   "source": [
    "### Currying: Un ejemplo práctico\n"
   ]
  },
  {
   "cell_type": "code",
   "execution_count": null,
   "id": "cf6d06a6",
   "metadata": {},
   "outputs": [
    {
     "data": {
      "text/plain": [
       "11"
      ]
     },
     "metadata": {},
     "output_type": "display_data"
    }
   ],
   "source": [
    "sumar x y = x + y\n",
    "incrementar = sumar 1\n",
    "\n",
    "incrementar 10"
   ]
  },
  {
   "attachments": {},
   "cell_type": "markdown",
   "id": "a503e0e0",
   "metadata": {},
   "source": [
    "En el intérprete vemos...\n"
   ]
  },
  {
   "cell_type": "code",
   "execution_count": null,
   "id": "bbdfd0ce",
   "metadata": {},
   "outputs": [
    {
     "data": {
      "text/html": [
       "<style>/* Styles used for the Hoogle display in the pager */\n",
       ".hoogle-doc {\n",
       "display: block;\n",
       "padding-bottom: 1.3em;\n",
       "padding-left: 0.4em;\n",
       "}\n",
       ".hoogle-code {\n",
       "display: block;\n",
       "font-family: monospace;\n",
       "white-space: pre;\n",
       "}\n",
       ".hoogle-text {\n",
       "display: block;\n",
       "}\n",
       ".hoogle-name {\n",
       "color: green;\n",
       "font-weight: bold;\n",
       "}\n",
       ".hoogle-head {\n",
       "font-weight: bold;\n",
       "}\n",
       ".hoogle-sub {\n",
       "display: block;\n",
       "margin-left: 0.4em;\n",
       "}\n",
       ".hoogle-package {\n",
       "font-weight: bold;\n",
       "font-style: italic;\n",
       "}\n",
       ".hoogle-module {\n",
       "font-weight: bold;\n",
       "}\n",
       ".hoogle-class {\n",
       "font-weight: bold;\n",
       "}\n",
       ".get-type {\n",
       "color: green;\n",
       "font-weight: bold;\n",
       "font-family: monospace;\n",
       "display: block;\n",
       "white-space: pre-wrap;\n",
       "}\n",
       ".show-type {\n",
       "color: green;\n",
       "font-weight: bold;\n",
       "font-family: monospace;\n",
       "margin-left: 1em;\n",
       "}\n",
       ".mono {\n",
       "font-family: monospace;\n",
       "display: block;\n",
       "}\n",
       ".err-msg {\n",
       "color: red;\n",
       "font-style: italic;\n",
       "font-family: monospace;\n",
       "white-space: pre;\n",
       "display: block;\n",
       "}\n",
       "#unshowable {\n",
       "color: red;\n",
       "font-weight: bold;\n",
       "}\n",
       ".err-msg.in.collapse {\n",
       "padding-top: 0.7em;\n",
       "}\n",
       ".highlight-code {\n",
       "white-space: pre;\n",
       "font-family: monospace;\n",
       "}\n",
       ".suggestion-warning { \n",
       "font-weight: bold;\n",
       "color: rgb(200, 130, 0);\n",
       "}\n",
       ".suggestion-error { \n",
       "font-weight: bold;\n",
       "color: red;\n",
       "}\n",
       ".suggestion-name {\n",
       "font-weight: bold;\n",
       "}\n",
       "</style><span class='get-type'>sumar :: forall {a}. Num a => a -> a -> a</span>"
      ],
      "text/plain": [
       "sumar :: forall {a}. Num a => a -> a -> a"
      ]
     },
     "metadata": {},
     "output_type": "display_data"
    }
   ],
   "source": [
    "sumar x y = x + y\n",
    "\n",
    ":type sumar"
   ]
  },
  {
   "cell_type": "code",
   "execution_count": null,
   "id": "546496f6",
   "metadata": {},
   "outputs": [
    {
     "data": {
      "text/html": [
       "<style>/* Styles used for the Hoogle display in the pager */\n",
       ".hoogle-doc {\n",
       "display: block;\n",
       "padding-bottom: 1.3em;\n",
       "padding-left: 0.4em;\n",
       "}\n",
       ".hoogle-code {\n",
       "display: block;\n",
       "font-family: monospace;\n",
       "white-space: pre;\n",
       "}\n",
       ".hoogle-text {\n",
       "display: block;\n",
       "}\n",
       ".hoogle-name {\n",
       "color: green;\n",
       "font-weight: bold;\n",
       "}\n",
       ".hoogle-head {\n",
       "font-weight: bold;\n",
       "}\n",
       ".hoogle-sub {\n",
       "display: block;\n",
       "margin-left: 0.4em;\n",
       "}\n",
       ".hoogle-package {\n",
       "font-weight: bold;\n",
       "font-style: italic;\n",
       "}\n",
       ".hoogle-module {\n",
       "font-weight: bold;\n",
       "}\n",
       ".hoogle-class {\n",
       "font-weight: bold;\n",
       "}\n",
       ".get-type {\n",
       "color: green;\n",
       "font-weight: bold;\n",
       "font-family: monospace;\n",
       "display: block;\n",
       "white-space: pre-wrap;\n",
       "}\n",
       ".show-type {\n",
       "color: green;\n",
       "font-weight: bold;\n",
       "font-family: monospace;\n",
       "margin-left: 1em;\n",
       "}\n",
       ".mono {\n",
       "font-family: monospace;\n",
       "display: block;\n",
       "}\n",
       ".err-msg {\n",
       "color: red;\n",
       "font-style: italic;\n",
       "font-family: monospace;\n",
       "white-space: pre;\n",
       "display: block;\n",
       "}\n",
       "#unshowable {\n",
       "color: red;\n",
       "font-weight: bold;\n",
       "}\n",
       ".err-msg.in.collapse {\n",
       "padding-top: 0.7em;\n",
       "}\n",
       ".highlight-code {\n",
       "white-space: pre;\n",
       "font-family: monospace;\n",
       "}\n",
       ".suggestion-warning { \n",
       "font-weight: bold;\n",
       "color: rgb(200, 130, 0);\n",
       "}\n",
       ".suggestion-error { \n",
       "font-weight: bold;\n",
       "color: red;\n",
       "}\n",
       ".suggestion-name {\n",
       "font-weight: bold;\n",
       "}\n",
       "</style><span class='get-type'>incrementar :: forall {a}. Num a => a -> a</span>"
      ],
      "text/plain": [
       "incrementar :: forall {a}. Num a => a -> a"
      ]
     },
     "metadata": {},
     "output_type": "display_data"
    }
   ],
   "source": [
    "sumar x y = x + y\n",
    "incrementar = sumar 1\n",
    "\n",
    ":type incrementar"
   ]
  },
  {
   "attachments": {},
   "cell_type": "markdown",
   "id": "d0f937ab",
   "metadata": {},
   "source": [
    "### Otro ejemplo"
   ]
  },
  {
   "cell_type": "code",
   "execution_count": null,
   "id": "7ecc3f9a",
   "metadata": {},
   "outputs": [
    {
     "data": {
      "text/plain": [
       "2"
      ]
     },
     "metadata": {},
     "output_type": "display_data"
    }
   ],
   "source": [
    "incrementar x = x + 1\n",
    "\n",
    "twice :: (a -> a) -> a -> a\n",
    "twice f x = f (f x)\n",
    "\n",
    "twice incrementar 0"
   ]
  },
  {
   "attachments": {},
   "cell_type": "markdown",
   "id": "277533e2",
   "metadata": {},
   "source": [
    "## Referencias\n",
    "\n",
    "1. Lipovača, M. (2011). Learn You a Haskell for Great Good! Recuperado de http://www.learnyouahaskell.com. Accedido por última vez el 2023-06-05."
   ]
  }
 ],
 "metadata": {
  "kernelspec": {
   "display_name": "Haskell",
   "language": "haskell",
   "name": "haskell"
  },
  "language_info": {
   "codemirror_mode": "ihaskell",
   "file_extension": ".hs",
   "mimetype": "text/x-haskell",
   "name": "haskell",
   "pygments_lexer": "Haskell",
   "version": "9.4.5"
  }
 },
 "nbformat": 4,
 "nbformat_minor": 5
}
