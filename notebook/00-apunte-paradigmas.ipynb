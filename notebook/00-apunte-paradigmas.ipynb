{
 "cells": [
  {
   "attachments": {},
   "cell_type": "markdown",
   "id": "998eda16",
   "metadata": {},
   "source": [
    "# Haskell\n",
    "... for OOP(rogrammers)\n",
    "\n",
    "Una introducción amigable al paradigma funcional"
   ]
  },
  {
   "attachments": {},
   "cell_type": "markdown",
   "id": "87a8e7fb",
   "metadata": {},
   "source": [
    "## ¿Qué es Haskell?\n",
    "\n",
    "1. Es un lenguaje de programación\n",
    "2. Utiliza el paradigma funcional\n",
    "\t1. Las funciones son ciudadanos de _primer nivel_.\n",
    "\t2. Evaluación de expresiones en lugar de ejecución de instrucciones.\n",
    "3. Es un lenguaje **funcional puro**\n",
    "\t1. Es inmutable por diseño\n",
    "\t2. El ser inmutable garantiza la ausencia de efectos secundarios\n",
    "\t3. Tiene características de idempotencia\n",
    "4. Es un lenguaje con evaluación tardía (lazy)"
   ]
  },
  {
   "attachments": {},
   "cell_type": "markdown",
   "id": "940b8518",
   "metadata": {},
   "source": [
    "## Primera prueba con Haskell\n",
    "\n",
    "1. Abrir el navegador e ir a: `https://repl.it/languages/haskell`  \n",
    "**Plan B:** `https://tio.run/#haskell`  \n",
    "**Plan C:** `https://paiza.io/en/languages/haskell`\n",
    "2. Tipeamos el siguiente código"
   ]
  },
  {
   "cell_type": "code",
   "execution_count": 1,
   "id": "e8222bb9",
   "metadata": {},
   "outputs": [
    {
     "data": {
      "text/plain": [
       "1764"
      ]
     },
     "metadata": {},
     "output_type": "display_data"
    }
   ],
   "source": [
    "  square x = x * x\n",
    "  square 42"
   ]
  },
  {
   "attachments": {},
   "cell_type": "markdown",
   "id": "4ad43624",
   "metadata": {},
   "source": [
    "3. Presionamos **Run**\n",
    "4. ¿Qué obtenemos?"
   ]
  },
  {
   "attachments": {},
   "cell_type": "markdown",
   "id": "5a96f0b0",
   "metadata": {},
   "source": [
    "## Otro enfoque: ¿qué hace el siguiente código?\n",
    "\n",
    "```java\n",
    "int[] lst = {2, 3, 5, 7, 11};\n",
    "\n",
    "int total = 0;\n",
    "for (int i = 0; i < lst.length; i++)\n",
    "  total = total + 3 * lst[i]; // indexitis!\n",
    "\n",
    "System.out.println(total);\n",
    "```"
   ]
  },
  {
   "attachments": {},
   "cell_type": "markdown",
   "id": "e6b1cd9b",
   "metadata": {},
   "source": [
    "## Mismo ejemplo, ahora con Haskell"
   ]
  },
  {
   "cell_type": "code",
   "execution_count": 2,
   "id": "4ab738db",
   "metadata": {},
   "outputs": [
    {
     "data": {
      "text/plain": [
       "84"
      ]
     },
     "metadata": {},
     "output_type": "display_data"
    }
   ],
   "source": [
    "lst = [2, 3, 5, 7, 11]\n",
    "total = sum (map (3*) lst)\n",
    "total"
   ]
  },
  {
   "attachments": {},
   "cell_type": "markdown",
   "id": "c8d26e9b",
   "metadata": {},
   "source": [
    "## Parte 1: La fácil\n",
    "\n",
    "### Funciones propias"
   ]
  },
  {
   "cell_type": "code",
   "execution_count": 3,
   "id": "2345dfe0",
   "metadata": {},
   "outputs": [
    {
     "data": {
      "text/plain": [
       "25"
      ]
     },
     "metadata": {},
     "output_type": "display_data"
    }
   ],
   "source": [
    "sumar :: Int -> Int -> Int\n",
    "sumar x y = x + y\n",
    "\n",
    "sumar 10 15"
   ]
  },
  {
   "attachments": {},
   "cell_type": "markdown",
   "id": "6b23b3e4",
   "metadata": {},
   "source": [
    "### Entrando en calor"
   ]
  },
  {
   "cell_type": "code",
   "execution_count": 4,
   "id": "8257346d",
   "metadata": {},
   "outputs": [
    {
     "data": {
      "text/plain": [
       "55"
      ]
     },
     "metadata": {},
     "output_type": "display_data"
    }
   ],
   "source": [
    "sumatoria :: Int -> Int\n",
    "sumatoria 0 = 0\n",
    "sumatoria n = n + sumatoria (n - 1)\n",
    "\n",
    "sumatoria 10"
   ]
  },
  {
   "attachments": {},
   "cell_type": "markdown",
   "id": "5daddda5",
   "metadata": {},
   "source": [
    "### Condicionales\n",
    "\n",
    "Ref: https://rosettacode.org/wiki/Hailstone_sequence#Haskell"
   ]
  },
  {
   "cell_type": "code",
   "execution_count": 5,
   "id": "b85fbc09",
   "metadata": {},
   "outputs": [
    {
     "data": {
      "text/plain": [
       "[16,2,10,28,52,18]"
      ]
     },
     "metadata": {},
     "output_type": "display_data"
    }
   ],
   "source": [
    "hailstone :: Int -> Int\n",
    "hailstone n = if even n\n",
    "  then n `div` 2\n",
    "  else 3 * n + 1\n",
    "\n",
    "map hailstone [5, 4, 3, 9, 17, 36]\n"
   ]
  },
  {
   "attachments": {},
   "cell_type": "markdown",
   "id": "29e938cf",
   "metadata": {},
   "source": [
    "### Ejercicio: Fibonacci\n",
    "\n",
    "`?`\n"
   ]
  },
  {
   "cell_type": "code",
   "execution_count": 6,
   "id": "91d9b641",
   "metadata": {},
   "outputs": [
    {
     "data": {
      "text/plain": [
       "55"
      ]
     },
     "metadata": {},
     "output_type": "display_data"
    }
   ],
   "source": [
    "fibonacci :: Int -> Int\n",
    "fibonacci 0 = 0\n",
    "fibonacci 1 = 1\n",
    "fibonacci n = fibonacci (n - 1) + fibonacci (n - 2)\n",
    "\n",
    "fibonacci 10"
   ]
  },
  {
   "attachments": {},
   "cell_type": "markdown",
   "id": "017ba3a0",
   "metadata": {},
   "source": [
    "### 🪄 Un fibonacci un poco más eficiente"
   ]
  },
  {
   "cell_type": "code",
   "execution_count": 7,
   "id": "0184e5cd",
   "metadata": {},
   "outputs": [
    {
     "data": {
      "text/plain": [
       "43466557686937456435688527675040625802564660517371780402481729089536555417949051890403879840079255169295922593080322634775209689623239873322471161642996440906533187938298969649928516003704476137795166849228875"
      ]
     },
     "metadata": {},
     "output_type": "display_data"
    }
   ],
   "source": [
    "fibonacci :: Int -> Integer\n",
    "fibonacci n = fibonacciHelper n 0 1\n",
    "\n",
    "fibonacciHelper :: Int -> Integer -> Integer -> Integer\n",
    "fibonacciHelper n a b = if n == 0\n",
    "  then a\n",
    "  else fibonacciHelper (n - 1) b (a + b)\n",
    "\n",
    "fibonacci 1000"
   ]
  },
  {
   "attachments": {},
   "cell_type": "markdown",
   "id": "e9f3d812",
   "metadata": {},
   "source": [
    "### Funciones sobre listas"
   ]
  },
  {
   "cell_type": "code",
   "execution_count": 8,
   "id": "eeef32cb",
   "metadata": {},
   "outputs": [
    {
     "data": {
      "text/plain": [
       "1"
      ]
     },
     "metadata": {},
     "output_type": "display_data"
    },
    {
     "data": {
      "text/plain": [
       "[2,3,4,5,6]"
      ]
     },
     "metadata": {},
     "output_type": "display_data"
    },
    {
     "data": {
      "text/plain": [
       "[1,2,3,4,5]"
      ]
     },
     "metadata": {},
     "output_type": "display_data"
    },
    {
     "data": {
      "text/plain": [
       "6"
      ]
     },
     "metadata": {},
     "output_type": "display_data"
    }
   ],
   "source": [
    "-- primeros conceptos\n",
    "lst = [1, 2, 3, 4, 5, 6]\n",
    "\n",
    "head lst\n",
    "tail lst\n",
    "init lst\n",
    "last lst"
   ]
  },
  {
   "cell_type": "code",
   "execution_count": 9,
   "id": "370b42b5",
   "metadata": {},
   "outputs": [
    {
     "data": {
      "text/html": [
       "<style>/* Styles used for the Hoogle display in the pager */\n",
       ".hoogle-doc {\n",
       "display: block;\n",
       "padding-bottom: 1.3em;\n",
       "padding-left: 0.4em;\n",
       "}\n",
       ".hoogle-code {\n",
       "display: block;\n",
       "font-family: monospace;\n",
       "white-space: pre;\n",
       "}\n",
       ".hoogle-text {\n",
       "display: block;\n",
       "}\n",
       ".hoogle-name {\n",
       "color: green;\n",
       "font-weight: bold;\n",
       "}\n",
       ".hoogle-head {\n",
       "font-weight: bold;\n",
       "}\n",
       ".hoogle-sub {\n",
       "display: block;\n",
       "margin-left: 0.4em;\n",
       "}\n",
       ".hoogle-package {\n",
       "font-weight: bold;\n",
       "font-style: italic;\n",
       "}\n",
       ".hoogle-module {\n",
       "font-weight: bold;\n",
       "}\n",
       ".hoogle-class {\n",
       "font-weight: bold;\n",
       "}\n",
       ".get-type {\n",
       "color: green;\n",
       "font-weight: bold;\n",
       "font-family: monospace;\n",
       "display: block;\n",
       "white-space: pre-wrap;\n",
       "}\n",
       ".show-type {\n",
       "color: green;\n",
       "font-weight: bold;\n",
       "font-family: monospace;\n",
       "margin-left: 1em;\n",
       "}\n",
       ".mono {\n",
       "font-family: monospace;\n",
       "display: block;\n",
       "}\n",
       ".err-msg {\n",
       "color: red;\n",
       "font-style: italic;\n",
       "font-family: monospace;\n",
       "white-space: pre;\n",
       "display: block;\n",
       "}\n",
       "#unshowable {\n",
       "color: red;\n",
       "font-weight: bold;\n",
       "}\n",
       ".err-msg.in.collapse {\n",
       "padding-top: 0.7em;\n",
       "}\n",
       ".highlight-code {\n",
       "white-space: pre;\n",
       "font-family: monospace;\n",
       "}\n",
       ".suggestion-warning { \n",
       "font-weight: bold;\n",
       "color: rgb(200, 130, 0);\n",
       "}\n",
       ".suggestion-error { \n",
       "font-weight: bold;\n",
       "color: red;\n",
       "}\n",
       ".suggestion-name {\n",
       "font-weight: bold;\n",
       "}\n",
       "</style><div class=\"suggestion-name\" style=\"clear:both;\">Use foldr</div><div class=\"suggestion-row\" style=\"float: left;\"><div class=\"suggestion-warning\">Found:</div><div class=\"highlight-code\" id=\"haskell\">misterio [] = 0\n",
       "misterio (x : xs) = 1 + misterio xs</div></div><div class=\"suggestion-row\" style=\"float: left;\"><div class=\"suggestion-warning\">Why Not:</div><div class=\"highlight-code\" id=\"haskell\">misterio xs = foldr (\\ x -> (+) 1) 0 xs</div></div>"
      ],
      "text/plain": [
       "Line 3: Use foldr\n",
       "Found:\n",
       "misterio [] = 0\n",
       "misterio (x : xs) = 1 + misterio xs\n",
       "Why not:\n",
       "misterio xs = foldr (\\ x -> (+) 1) 0 xs"
      ]
     },
     "metadata": {},
     "output_type": "display_data"
    },
    {
     "data": {
      "text/plain": [
       "5"
      ]
     },
     "metadata": {},
     "output_type": "display_data"
    }
   ],
   "source": [
    "-- ¿Qué hace este código?\n",
    "misterio :: [Int] -> Int\n",
    "misterio [] = 0\n",
    "misterio (x:xs) = 1 + misterio xs\n",
    "\n",
    "misterio [1, 2, 3, 4, 5]"
   ]
  },
  {
   "attachments": {},
   "cell_type": "markdown",
   "id": "6d15ac81",
   "metadata": {},
   "source": [
    "### Funciones sobre listas"
   ]
  },
  {
   "cell_type": "code",
   "execution_count": 10,
   "id": "50ad26dd",
   "metadata": {},
   "outputs": [
    {
     "data": {
      "text/html": [
       "<style>/* Styles used for the Hoogle display in the pager */\n",
       ".hoogle-doc {\n",
       "display: block;\n",
       "padding-bottom: 1.3em;\n",
       "padding-left: 0.4em;\n",
       "}\n",
       ".hoogle-code {\n",
       "display: block;\n",
       "font-family: monospace;\n",
       "white-space: pre;\n",
       "}\n",
       ".hoogle-text {\n",
       "display: block;\n",
       "}\n",
       ".hoogle-name {\n",
       "color: green;\n",
       "font-weight: bold;\n",
       "}\n",
       ".hoogle-head {\n",
       "font-weight: bold;\n",
       "}\n",
       ".hoogle-sub {\n",
       "display: block;\n",
       "margin-left: 0.4em;\n",
       "}\n",
       ".hoogle-package {\n",
       "font-weight: bold;\n",
       "font-style: italic;\n",
       "}\n",
       ".hoogle-module {\n",
       "font-weight: bold;\n",
       "}\n",
       ".hoogle-class {\n",
       "font-weight: bold;\n",
       "}\n",
       ".get-type {\n",
       "color: green;\n",
       "font-weight: bold;\n",
       "font-family: monospace;\n",
       "display: block;\n",
       "white-space: pre-wrap;\n",
       "}\n",
       ".show-type {\n",
       "color: green;\n",
       "font-weight: bold;\n",
       "font-family: monospace;\n",
       "margin-left: 1em;\n",
       "}\n",
       ".mono {\n",
       "font-family: monospace;\n",
       "display: block;\n",
       "}\n",
       ".err-msg {\n",
       "color: red;\n",
       "font-style: italic;\n",
       "font-family: monospace;\n",
       "white-space: pre;\n",
       "display: block;\n",
       "}\n",
       "#unshowable {\n",
       "color: red;\n",
       "font-weight: bold;\n",
       "}\n",
       ".err-msg.in.collapse {\n",
       "padding-top: 0.7em;\n",
       "}\n",
       ".highlight-code {\n",
       "white-space: pre;\n",
       "font-family: monospace;\n",
       "}\n",
       ".suggestion-warning { \n",
       "font-weight: bold;\n",
       "color: rgb(200, 130, 0);\n",
       "}\n",
       ".suggestion-error { \n",
       "font-weight: bold;\n",
       "color: red;\n",
       "}\n",
       ".suggestion-name {\n",
       "font-weight: bold;\n",
       "}\n",
       "</style><div class=\"suggestion-name\" style=\"clear:both;\">Use map</div><div class=\"suggestion-row\" style=\"float: left;\"><div class=\"suggestion-warning\">Found:</div><div class=\"highlight-code\" id=\"haskell\">misterioDos [] = []\n",
       "misterioDos (x : xs) = (x * x) : (misterioDos xs)</div></div><div class=\"suggestion-row\" style=\"float: left;\"><div class=\"suggestion-warning\">Why Not:</div><div class=\"highlight-code\" id=\"haskell\">misterioDos xs = map (\\ x -> x * x) xs</div></div><div class=\"suggestion-name\" style=\"clear:both;\">Redundant bracket</div><div class=\"suggestion-row\" style=\"float: left;\"><div class=\"suggestion-warning\">Found:</div><div class=\"highlight-code\" id=\"haskell\">(x * x) : (misterioDos xs)</div></div><div class=\"suggestion-row\" style=\"float: left;\"><div class=\"suggestion-warning\">Why Not:</div><div class=\"highlight-code\" id=\"haskell\">(x * x) : misterioDos xs</div></div>"
      ],
      "text/plain": [
       "Line 3: Use map\n",
       "Found:\n",
       "misterioDos [] = []\n",
       "misterioDos (x : xs) = (x * x) : (misterioDos xs)\n",
       "Why not:\n",
       "misterioDos xs = map (\\ x -> x * x) xsLine 4: Redundant bracket\n",
       "Found:\n",
       "(x * x) : (misterioDos xs)\n",
       "Why not:\n",
       "(x * x) : misterioDos xs"
      ]
     },
     "metadata": {},
     "output_type": "display_data"
    },
    {
     "data": {
      "text/plain": [
       "[1,4,9,16,25]"
      ]
     },
     "metadata": {},
     "output_type": "display_data"
    }
   ],
   "source": [
    "-- ¿Y este otro?\n",
    "--misterioDos :: [Int] -> [Int]\n",
    "misterioDos []     = []\n",
    "misterioDos (x:xs) = (x * x) : (misterioDos xs)\n",
    "\n",
    "misterioDos [1, 2, 3, 4, 5]"
   ]
  },
  {
   "attachments": {},
   "cell_type": "markdown",
   "id": "1217dc01",
   "metadata": {},
   "source": [
    "### Ejercicio: Contar los elementos pares de una lista"
   ]
  },
  {
   "cell_type": "code",
   "execution_count": 11,
   "id": "caca6ab5",
   "metadata": {},
   "outputs": [
    {
     "data": {
      "text/html": [
       "<style>/* Styles used for the Hoogle display in the pager */\n",
       ".hoogle-doc {\n",
       "display: block;\n",
       "padding-bottom: 1.3em;\n",
       "padding-left: 0.4em;\n",
       "}\n",
       ".hoogle-code {\n",
       "display: block;\n",
       "font-family: monospace;\n",
       "white-space: pre;\n",
       "}\n",
       ".hoogle-text {\n",
       "display: block;\n",
       "}\n",
       ".hoogle-name {\n",
       "color: green;\n",
       "font-weight: bold;\n",
       "}\n",
       ".hoogle-head {\n",
       "font-weight: bold;\n",
       "}\n",
       ".hoogle-sub {\n",
       "display: block;\n",
       "margin-left: 0.4em;\n",
       "}\n",
       ".hoogle-package {\n",
       "font-weight: bold;\n",
       "font-style: italic;\n",
       "}\n",
       ".hoogle-module {\n",
       "font-weight: bold;\n",
       "}\n",
       ".hoogle-class {\n",
       "font-weight: bold;\n",
       "}\n",
       ".get-type {\n",
       "color: green;\n",
       "font-weight: bold;\n",
       "font-family: monospace;\n",
       "display: block;\n",
       "white-space: pre-wrap;\n",
       "}\n",
       ".show-type {\n",
       "color: green;\n",
       "font-weight: bold;\n",
       "font-family: monospace;\n",
       "margin-left: 1em;\n",
       "}\n",
       ".mono {\n",
       "font-family: monospace;\n",
       "display: block;\n",
       "}\n",
       ".err-msg {\n",
       "color: red;\n",
       "font-style: italic;\n",
       "font-family: monospace;\n",
       "white-space: pre;\n",
       "display: block;\n",
       "}\n",
       "#unshowable {\n",
       "color: red;\n",
       "font-weight: bold;\n",
       "}\n",
       ".err-msg.in.collapse {\n",
       "padding-top: 0.7em;\n",
       "}\n",
       ".highlight-code {\n",
       "white-space: pre;\n",
       "font-family: monospace;\n",
       "}\n",
       ".suggestion-warning { \n",
       "font-weight: bold;\n",
       "color: rgb(200, 130, 0);\n",
       "}\n",
       ".suggestion-error { \n",
       "font-weight: bold;\n",
       "color: red;\n",
       "}\n",
       ".suggestion-name {\n",
       "font-weight: bold;\n",
       "}\n",
       "</style><div class=\"suggestion-name\" style=\"clear:both;\">Use even</div><div class=\"suggestion-row\" style=\"float: left;\"><div class=\"suggestion-warning\">Found:</div><div class=\"highlight-code\" id=\"haskell\">x `mod` 2 == 0</div></div><div class=\"suggestion-row\" style=\"float: left;\"><div class=\"suggestion-warning\">Why Not:</div><div class=\"highlight-code\" id=\"haskell\">even x</div></div><div class=\"suggestion-name\" style=\"clear:both;\">Use foldr</div><div class=\"suggestion-row\" style=\"float: left;\"><div class=\"suggestion-warning\">Found:</div><div class=\"highlight-code\" id=\"haskell\">contarPares [] = 0\n",
       "contarPares (x : xs) = (contar x) + contarPares xs</div></div><div class=\"suggestion-row\" style=\"float: left;\"><div class=\"suggestion-warning\">Why Not:</div><div class=\"highlight-code\" id=\"haskell\">contarPares xs = foldr ((+) . contar) 0 xs</div></div><div class=\"suggestion-name\" style=\"clear:both;\">Redundant bracket</div><div class=\"suggestion-row\" style=\"float: left;\"><div class=\"suggestion-warning\">Found:</div><div class=\"highlight-code\" id=\"haskell\">(contar x) + contarPares xs</div></div><div class=\"suggestion-row\" style=\"float: left;\"><div class=\"suggestion-warning\">Why Not:</div><div class=\"highlight-code\" id=\"haskell\">contar x + contarPares xs</div></div>"
      ],
      "text/plain": [
       "Line 2: Use even\n",
       "Found:\n",
       "x `mod` 2 == 0\n",
       "Why not:\n",
       "even xLine 7: Use foldr\n",
       "Found:\n",
       "contarPares [] = 0\n",
       "contarPares (x : xs) = (contar x) + contarPares xs\n",
       "Why not:\n",
       "contarPares xs = foldr ((+) . contar) 0 xsLine 8: Redundant bracket\n",
       "Found:\n",
       "(contar x) + contarPares xs\n",
       "Why not:\n",
       "contar x + contarPares xs"
      ]
     },
     "metadata": {},
     "output_type": "display_data"
    },
    {
     "data": {
      "text/plain": [
       "3"
      ]
     },
     "metadata": {},
     "output_type": "display_data"
    }
   ],
   "source": [
    "contar :: Int -> Int\n",
    "contar x = if x `mod` 2 == 0\n",
    "  then 1\n",
    "  else 0\n",
    "\n",
    "contarPares :: [Int] -> Int\n",
    "contarPares [] = 0\n",
    "contarPares (x:xs) = (contar x) + contarPares xs\n",
    "\n",
    "contarPares [1, 2, 3, 4, 5, 6]"
   ]
  },
  {
   "attachments": {},
   "cell_type": "markdown",
   "id": "af211919",
   "metadata": {},
   "source": [
    "> **Quiz:** ¿Cómo hacemos para sumarlos?\n"
   ]
  },
  {
   "cell_type": "code",
   "execution_count": 12,
   "id": "df4d5a7a",
   "metadata": {},
   "outputs": [
    {
     "data": {
      "text/html": [
       "<style>/* Styles used for the Hoogle display in the pager */\n",
       ".hoogle-doc {\n",
       "display: block;\n",
       "padding-bottom: 1.3em;\n",
       "padding-left: 0.4em;\n",
       "}\n",
       ".hoogle-code {\n",
       "display: block;\n",
       "font-family: monospace;\n",
       "white-space: pre;\n",
       "}\n",
       ".hoogle-text {\n",
       "display: block;\n",
       "}\n",
       ".hoogle-name {\n",
       "color: green;\n",
       "font-weight: bold;\n",
       "}\n",
       ".hoogle-head {\n",
       "font-weight: bold;\n",
       "}\n",
       ".hoogle-sub {\n",
       "display: block;\n",
       "margin-left: 0.4em;\n",
       "}\n",
       ".hoogle-package {\n",
       "font-weight: bold;\n",
       "font-style: italic;\n",
       "}\n",
       ".hoogle-module {\n",
       "font-weight: bold;\n",
       "}\n",
       ".hoogle-class {\n",
       "font-weight: bold;\n",
       "}\n",
       ".get-type {\n",
       "color: green;\n",
       "font-weight: bold;\n",
       "font-family: monospace;\n",
       "display: block;\n",
       "white-space: pre-wrap;\n",
       "}\n",
       ".show-type {\n",
       "color: green;\n",
       "font-weight: bold;\n",
       "font-family: monospace;\n",
       "margin-left: 1em;\n",
       "}\n",
       ".mono {\n",
       "font-family: monospace;\n",
       "display: block;\n",
       "}\n",
       ".err-msg {\n",
       "color: red;\n",
       "font-style: italic;\n",
       "font-family: monospace;\n",
       "white-space: pre;\n",
       "display: block;\n",
       "}\n",
       "#unshowable {\n",
       "color: red;\n",
       "font-weight: bold;\n",
       "}\n",
       ".err-msg.in.collapse {\n",
       "padding-top: 0.7em;\n",
       "}\n",
       ".highlight-code {\n",
       "white-space: pre;\n",
       "font-family: monospace;\n",
       "}\n",
       ".suggestion-warning { \n",
       "font-weight: bold;\n",
       "color: rgb(200, 130, 0);\n",
       "}\n",
       ".suggestion-error { \n",
       "font-weight: bold;\n",
       "color: red;\n",
       "}\n",
       ".suggestion-name {\n",
       "font-weight: bold;\n",
       "}\n",
       "</style><div class=\"suggestion-name\" style=\"clear:both;\">Use even</div><div class=\"suggestion-row\" style=\"float: left;\"><div class=\"suggestion-warning\">Found:</div><div class=\"highlight-code\" id=\"haskell\">x `mod` 2 == 0</div></div><div class=\"suggestion-row\" style=\"float: left;\"><div class=\"suggestion-warning\">Why Not:</div><div class=\"highlight-code\" id=\"haskell\">even x</div></div><div class=\"suggestion-name\" style=\"clear:both;\">Use foldr</div><div class=\"suggestion-row\" style=\"float: left;\"><div class=\"suggestion-warning\">Found:</div><div class=\"highlight-code\" id=\"haskell\">sumarPares [] = 0\n",
       "sumarPares (x : xs) = (sumar x) + sumarPares xs</div></div><div class=\"suggestion-row\" style=\"float: left;\"><div class=\"suggestion-warning\">Why Not:</div><div class=\"highlight-code\" id=\"haskell\">sumarPares xs = foldr ((+) . sumar) 0 xs</div></div><div class=\"suggestion-name\" style=\"clear:both;\">Redundant bracket</div><div class=\"suggestion-row\" style=\"float: left;\"><div class=\"suggestion-warning\">Found:</div><div class=\"highlight-code\" id=\"haskell\">(sumar x) + sumarPares xs</div></div><div class=\"suggestion-row\" style=\"float: left;\"><div class=\"suggestion-warning\">Why Not:</div><div class=\"highlight-code\" id=\"haskell\">sumar x + sumarPares xs</div></div>"
      ],
      "text/plain": [
       "Line 2: Use even\n",
       "Found:\n",
       "x `mod` 2 == 0\n",
       "Why not:\n",
       "even xLine 7: Use foldr\n",
       "Found:\n",
       "sumarPares [] = 0\n",
       "sumarPares (x : xs) = (sumar x) + sumarPares xs\n",
       "Why not:\n",
       "sumarPares xs = foldr ((+) . sumar) 0 xsLine 8: Redundant bracket\n",
       "Found:\n",
       "(sumar x) + sumarPares xs\n",
       "Why not:\n",
       "sumar x + sumarPares xs"
      ]
     },
     "metadata": {},
     "output_type": "display_data"
    },
    {
     "data": {
      "text/plain": [
       "12"
      ]
     },
     "metadata": {},
     "output_type": "display_data"
    }
   ],
   "source": [
    "sumar :: Int -> Int\n",
    "sumar x = if x `mod` 2 == 0\n",
    "  then x\n",
    "  else 0\n",
    "\n",
    "sumarPares :: [Int] -> Int\n",
    "sumarPares [] = 0\n",
    "sumarPares (x:xs) = (sumar x) + sumarPares xs\n",
    "\n",
    "sumarPares [1, 2, 3, 4, 5, 6]"
   ]
  },
  {
   "attachments": {},
   "cell_type": "markdown",
   "id": "58d051f1",
   "metadata": {},
   "source": [
    "### Bonus: Contar \"notables\""
   ]
  },
  {
   "cell_type": "code",
   "execution_count": 13,
   "id": "80e0304a",
   "metadata": {},
   "outputs": [
    {
     "data": {
      "text/html": [
       "<style>/* Styles used for the Hoogle display in the pager */\n",
       ".hoogle-doc {\n",
       "display: block;\n",
       "padding-bottom: 1.3em;\n",
       "padding-left: 0.4em;\n",
       "}\n",
       ".hoogle-code {\n",
       "display: block;\n",
       "font-family: monospace;\n",
       "white-space: pre;\n",
       "}\n",
       ".hoogle-text {\n",
       "display: block;\n",
       "}\n",
       ".hoogle-name {\n",
       "color: green;\n",
       "font-weight: bold;\n",
       "}\n",
       ".hoogle-head {\n",
       "font-weight: bold;\n",
       "}\n",
       ".hoogle-sub {\n",
       "display: block;\n",
       "margin-left: 0.4em;\n",
       "}\n",
       ".hoogle-package {\n",
       "font-weight: bold;\n",
       "font-style: italic;\n",
       "}\n",
       ".hoogle-module {\n",
       "font-weight: bold;\n",
       "}\n",
       ".hoogle-class {\n",
       "font-weight: bold;\n",
       "}\n",
       ".get-type {\n",
       "color: green;\n",
       "font-weight: bold;\n",
       "font-family: monospace;\n",
       "display: block;\n",
       "white-space: pre-wrap;\n",
       "}\n",
       ".show-type {\n",
       "color: green;\n",
       "font-weight: bold;\n",
       "font-family: monospace;\n",
       "margin-left: 1em;\n",
       "}\n",
       ".mono {\n",
       "font-family: monospace;\n",
       "display: block;\n",
       "}\n",
       ".err-msg {\n",
       "color: red;\n",
       "font-style: italic;\n",
       "font-family: monospace;\n",
       "white-space: pre;\n",
       "display: block;\n",
       "}\n",
       "#unshowable {\n",
       "color: red;\n",
       "font-weight: bold;\n",
       "}\n",
       ".err-msg.in.collapse {\n",
       "padding-top: 0.7em;\n",
       "}\n",
       ".highlight-code {\n",
       "white-space: pre;\n",
       "font-family: monospace;\n",
       "}\n",
       ".suggestion-warning { \n",
       "font-weight: bold;\n",
       "color: rgb(200, 130, 0);\n",
       "}\n",
       ".suggestion-error { \n",
       "font-weight: bold;\n",
       "color: red;\n",
       "}\n",
       ".suggestion-name {\n",
       "font-weight: bold;\n",
       "}\n",
       "</style><div class=\"suggestion-name\" style=\"clear:both;\">Use even</div><div class=\"suggestion-row\" style=\"float: left;\"><div class=\"suggestion-warning\">Found:</div><div class=\"highlight-code\" id=\"haskell\">x `mod` 2 == 0</div></div><div class=\"suggestion-row\" style=\"float: left;\"><div class=\"suggestion-warning\">Why Not:</div><div class=\"highlight-code\" id=\"haskell\">even x</div></div><div class=\"suggestion-name\" style=\"clear:both;\">Use foldr</div><div class=\"suggestion-row\" style=\"float: left;\"><div class=\"suggestion-warning\">Found:</div><div class=\"highlight-code\" id=\"haskell\">contarNotables f [] = 0\n",
       "contarNotables f (x : xs) = (f x) + contarNotables f xs</div></div><div class=\"suggestion-row\" style=\"float: left;\"><div class=\"suggestion-warning\">Why Not:</div><div class=\"highlight-code\" id=\"haskell\">contarNotables f xs = foldr ((+) . f) 0 xs</div></div><div class=\"suggestion-name\" style=\"clear:both;\">Redundant bracket</div><div class=\"suggestion-row\" style=\"float: left;\"><div class=\"suggestion-warning\">Found:</div><div class=\"highlight-code\" id=\"haskell\">(f x) + contarNotables f xs</div></div><div class=\"suggestion-row\" style=\"float: left;\"><div class=\"suggestion-warning\">Why Not:</div><div class=\"highlight-code\" id=\"haskell\">f x + contarNotables f xs</div></div>"
      ],
      "text/plain": [
       "Line 7: Use even\n",
       "Found:\n",
       "x `mod` 2 == 0\n",
       "Why not:\n",
       "even xLine 12: Use foldr\n",
       "Found:\n",
       "contarNotables f [] = 0\n",
       "contarNotables f (x : xs) = (f x) + contarNotables f xs\n",
       "Why not:\n",
       "contarNotables f xs = foldr ((+) . f) 0 xsLine 13: Redundant bracket\n",
       "Found:\n",
       "(f x) + contarNotables f xs\n",
       "Why not:\n",
       "f x + contarNotables f xs"
      ]
     },
     "metadata": {},
     "output_type": "display_data"
    },
    {
     "data": {
      "text/plain": [
       "3"
      ]
     },
     "metadata": {},
     "output_type": "display_data"
    }
   ],
   "source": [
    "notable :: Int -> Int\n",
    "notable x = if x `mod` 3 == 0\n",
    "  then 1\n",
    "  else 0\n",
    "\n",
    "notable2 :: Int -> Int\n",
    "notable2 x = if x `mod` 2 == 0\n",
    "  then 1\n",
    "  else 0\n",
    "\n",
    "contarNotables :: (Int -> Int) -> [Int] -> Int\n",
    "contarNotables f [] = 0\n",
    "contarNotables f (x:xs) = (f x) + contarNotables f xs\n",
    "\n",
    "contarNotables notable2 [1, 2, 3, 4, 5, 6]"
   ]
  },
  {
   "attachments": {},
   "cell_type": "markdown",
   "id": "5de6293c",
   "metadata": {},
   "source": [
    "## Interludio: Algunas funciones pre-cocidas sobre listas\n",
    "\n",
    "### zip\n",
    "Combina dos listas en una lista de tuplas"
   ]
  },
  {
   "cell_type": "code",
   "execution_count": 14,
   "id": "9852ddd8",
   "metadata": {},
   "outputs": [
    {
     "data": {
      "text/plain": [
       "[(1,10),(2,20),(3,30),(4,40)]"
      ]
     },
     "metadata": {},
     "output_type": "display_data"
    }
   ],
   "source": [
    "numbers1 = [1..4]\n",
    "numbers2 = [10,20..40]\n",
    "zip numbers1 numbers2"
   ]
  },
  {
   "attachments": {},
   "cell_type": "markdown",
   "id": "e3bec6e0",
   "metadata": {},
   "source": [
    "#### Ejemplo práctico\n",
    "Supongamos que tenemos las notas del primer parcial, y del trabajo práctico. Queremos conocer el mayor promedio del curso."
   ]
  },
  {
   "cell_type": "code",
   "execution_count": 15,
   "id": "ab7905d7",
   "metadata": {},
   "outputs": [
    {
     "data": {
      "text/html": [
       "<style>/* Styles used for the Hoogle display in the pager */\n",
       ".hoogle-doc {\n",
       "display: block;\n",
       "padding-bottom: 1.3em;\n",
       "padding-left: 0.4em;\n",
       "}\n",
       ".hoogle-code {\n",
       "display: block;\n",
       "font-family: monospace;\n",
       "white-space: pre;\n",
       "}\n",
       ".hoogle-text {\n",
       "display: block;\n",
       "}\n",
       ".hoogle-name {\n",
       "color: green;\n",
       "font-weight: bold;\n",
       "}\n",
       ".hoogle-head {\n",
       "font-weight: bold;\n",
       "}\n",
       ".hoogle-sub {\n",
       "display: block;\n",
       "margin-left: 0.4em;\n",
       "}\n",
       ".hoogle-package {\n",
       "font-weight: bold;\n",
       "font-style: italic;\n",
       "}\n",
       ".hoogle-module {\n",
       "font-weight: bold;\n",
       "}\n",
       ".hoogle-class {\n",
       "font-weight: bold;\n",
       "}\n",
       ".get-type {\n",
       "color: green;\n",
       "font-weight: bold;\n",
       "font-family: monospace;\n",
       "display: block;\n",
       "white-space: pre-wrap;\n",
       "}\n",
       ".show-type {\n",
       "color: green;\n",
       "font-weight: bold;\n",
       "font-family: monospace;\n",
       "margin-left: 1em;\n",
       "}\n",
       ".mono {\n",
       "font-family: monospace;\n",
       "display: block;\n",
       "}\n",
       ".err-msg {\n",
       "color: red;\n",
       "font-style: italic;\n",
       "font-family: monospace;\n",
       "white-space: pre;\n",
       "display: block;\n",
       "}\n",
       "#unshowable {\n",
       "color: red;\n",
       "font-weight: bold;\n",
       "}\n",
       ".err-msg.in.collapse {\n",
       "padding-top: 0.7em;\n",
       "}\n",
       ".highlight-code {\n",
       "white-space: pre;\n",
       "font-family: monospace;\n",
       "}\n",
       ".suggestion-warning { \n",
       "font-weight: bold;\n",
       "color: rgb(200, 130, 0);\n",
       "}\n",
       ".suggestion-error { \n",
       "font-weight: bold;\n",
       "color: red;\n",
       "}\n",
       ".suggestion-name {\n",
       "font-weight: bold;\n",
       "}\n",
       "</style><div class=\"suggestion-name\" style=\"clear:both;\">Use zipWith</div><div class=\"suggestion-row\" style=\"float: left;\"><div class=\"suggestion-warning\">Found:</div><div class=\"highlight-code\" id=\"haskell\">map promedio (zip npp ntp)</div></div><div class=\"suggestion-row\" style=\"float: left;\"><div class=\"suggestion-warning\">Why Not:</div><div class=\"highlight-code\" id=\"haskell\">zipWith (curry promedio) npp ntp</div></div>"
      ],
      "text/plain": [
       "Line 6: Use zipWith\n",
       "Found:\n",
       "map promedio (zip npp ntp)\n",
       "Why not:\n",
       "zipWith (curry promedio) npp ntp"
      ]
     },
     "metadata": {},
     "output_type": "display_data"
    },
    {
     "data": {
      "text/plain": [
       "9.5"
      ]
     },
     "metadata": {},
     "output_type": "display_data"
    }
   ],
   "source": [
    "npp = [4, 8, 7, 9, 2]\n",
    "ntp = [5, 8, 9, 10, 6]\n",
    "\n",
    "promedio (x, y) = (x + y)/2\n",
    "\n",
    "promedios = map promedio ( zip npp ntp )\n",
    "maximum promedios"
   ]
  },
  {
   "attachments": {},
   "cell_type": "markdown",
   "id": "d72c0113",
   "metadata": {},
   "source": [
    "### map\n",
    "Es una función que aplica una operación a cada elemento de una lista y devuelve una nueva lista con los resultados"
   ]
  },
  {
   "cell_type": "code",
   "execution_count": 16,
   "id": "dd8dd2dc",
   "metadata": {},
   "outputs": [
    {
     "data": {
      "text/plain": [
       "[20,40,60]"
      ]
     },
     "metadata": {},
     "output_type": "display_data"
    }
   ],
   "source": [
    "numbers = [10, 20, 30]\n",
    "map (*2) numbers"
   ]
  },
  {
   "attachments": {},
   "cell_type": "markdown",
   "id": "ab7c9f26",
   "metadata": {},
   "source": [
    "### fold (foldl / foldr)\n",
    "Combina los elementos de una lista en un solo valor"
   ]
  },
  {
   "cell_type": "code",
   "execution_count": 17,
   "id": "56988424",
   "metadata": {},
   "outputs": [
    {
     "data": {
      "text/plain": [
       "64"
      ]
     },
     "metadata": {},
     "output_type": "display_data"
    }
   ],
   "source": [
    "numbers = [1, 2, 3]\n",
    "foldl (^) 2 numbers"
   ]
  },
  {
   "attachments": {},
   "cell_type": "markdown",
   "id": "564aa242",
   "metadata": {},
   "source": [
    "### filter\n",
    "Filtra una lista por una condición dada"
   ]
  },
  {
   "cell_type": "code",
   "execution_count": 18,
   "id": "f9da7eb9",
   "metadata": {},
   "outputs": [
    {
     "data": {
      "text/plain": [
       "[2,4,6,8,10]"
      ]
     },
     "metadata": {},
     "output_type": "display_data"
    }
   ],
   "source": [
    "numbers = [1, 2, 3, 4, 5, 6, 7, 8, 9, 10]\n",
    "filter even numbers"
   ]
  },
  {
   "attachments": {},
   "cell_type": "markdown",
   "id": "d965da2e",
   "metadata": {},
   "source": [
    "### elem\n",
    "Es una función que toma un elemento y una lista, y devuelve un valor booleano que indica si el elemento dado está presente en la lista."
   ]
  },
  {
   "cell_type": "code",
   "execution_count": 19,
   "id": "02cfa506",
   "metadata": {},
   "outputs": [
    {
     "data": {
      "text/html": [
       "<style>/* Styles used for the Hoogle display in the pager */\n",
       ".hoogle-doc {\n",
       "display: block;\n",
       "padding-bottom: 1.3em;\n",
       "padding-left: 0.4em;\n",
       "}\n",
       ".hoogle-code {\n",
       "display: block;\n",
       "font-family: monospace;\n",
       "white-space: pre;\n",
       "}\n",
       ".hoogle-text {\n",
       "display: block;\n",
       "}\n",
       ".hoogle-name {\n",
       "color: green;\n",
       "font-weight: bold;\n",
       "}\n",
       ".hoogle-head {\n",
       "font-weight: bold;\n",
       "}\n",
       ".hoogle-sub {\n",
       "display: block;\n",
       "margin-left: 0.4em;\n",
       "}\n",
       ".hoogle-package {\n",
       "font-weight: bold;\n",
       "font-style: italic;\n",
       "}\n",
       ".hoogle-module {\n",
       "font-weight: bold;\n",
       "}\n",
       ".hoogle-class {\n",
       "font-weight: bold;\n",
       "}\n",
       ".get-type {\n",
       "color: green;\n",
       "font-weight: bold;\n",
       "font-family: monospace;\n",
       "display: block;\n",
       "white-space: pre-wrap;\n",
       "}\n",
       ".show-type {\n",
       "color: green;\n",
       "font-weight: bold;\n",
       "font-family: monospace;\n",
       "margin-left: 1em;\n",
       "}\n",
       ".mono {\n",
       "font-family: monospace;\n",
       "display: block;\n",
       "}\n",
       ".err-msg {\n",
       "color: red;\n",
       "font-style: italic;\n",
       "font-family: monospace;\n",
       "white-space: pre;\n",
       "display: block;\n",
       "}\n",
       "#unshowable {\n",
       "color: red;\n",
       "font-weight: bold;\n",
       "}\n",
       ".err-msg.in.collapse {\n",
       "padding-top: 0.7em;\n",
       "}\n",
       ".highlight-code {\n",
       "white-space: pre;\n",
       "font-family: monospace;\n",
       "}\n",
       ".suggestion-warning { \n",
       "font-weight: bold;\n",
       "color: rgb(200, 130, 0);\n",
       "}\n",
       ".suggestion-error { \n",
       "font-weight: bold;\n",
       "color: red;\n",
       "}\n",
       ".suggestion-name {\n",
       "font-weight: bold;\n",
       "}\n",
       "</style><div class=\"suggestion-name\" style=\"clear:both;\">Use infix</div><div class=\"suggestion-row\" style=\"float: left;\"><div class=\"suggestion-warning\">Found:</div><div class=\"highlight-code\" id=\"haskell\">elem 3 lst</div></div><div class=\"suggestion-row\" style=\"float: left;\"><div class=\"suggestion-warning\">Why Not:</div><div class=\"highlight-code\" id=\"haskell\">3 `elem` lst</div></div><div class=\"suggestion-name\" style=\"clear:both;\">Use infix</div><div class=\"suggestion-row\" style=\"float: left;\"><div class=\"suggestion-warning\">Found:</div><div class=\"highlight-code\" id=\"haskell\">elem 99 lst</div></div><div class=\"suggestion-row\" style=\"float: left;\"><div class=\"suggestion-warning\">Why Not:</div><div class=\"highlight-code\" id=\"haskell\">99 `elem` lst</div></div>"
      ],
      "text/plain": [
       "Line 2: Use infix\n",
       "Found:\n",
       "elem 3 lst\n",
       "Why not:\n",
       "3 `elem` lstLine 3: Use infix\n",
       "Found:\n",
       "elem 99 lst\n",
       "Why not:\n",
       "99 `elem` lst"
      ]
     },
     "metadata": {},
     "output_type": "display_data"
    },
    {
     "data": {
      "text/plain": [
       "True"
      ]
     },
     "metadata": {},
     "output_type": "display_data"
    },
    {
     "data": {
      "text/plain": [
       "False"
      ]
     },
     "metadata": {},
     "output_type": "display_data"
    }
   ],
   "source": [
    "lst = [1, 2, 3, 4, 5]\n",
    "elem 3 lst\n",
    "elem 99 lst"
   ]
  },
  {
   "attachments": {},
   "cell_type": "markdown",
   "id": "7df4a2e9",
   "metadata": {},
   "source": [
    "## Parte 2: La moderada\n",
    "### Pattern Matching\n",
    "Es una técnica que permite descomponer y comparar patrones en datos estructurados. Se utiliza para realizar diferentes acciones o tomar decisiones según los patrones encontrados en los valores de entrada."
   ]
  },
  {
   "cell_type": "code",
   "execution_count": 20,
   "id": "15714329",
   "metadata": {},
   "outputs": [
    {
     "data": {
      "text/plain": [
       "[4,5]"
      ]
     },
     "metadata": {},
     "output_type": "display_data"
    },
    {
     "data": {
      "text/plain": [
       "[]"
      ]
     },
     "metadata": {},
     "output_type": "display_data"
    }
   ],
   "source": [
    "quitaTres :: [a] -> [a]\n",
    "quitaTres (_:_:_:xs) = xs\n",
    "quitaTres _          = []\n",
    "\n",
    "quitaTres [1,2,3,4,5]\n",
    "quitaTres [1,2]"
   ]
  },
  {
   "attachments": {},
   "cell_type": "markdown",
   "id": "54fb67bf",
   "metadata": {},
   "source": [
    "### Dos operadores notables\n",
    "\n",
    "* El operador `++` sirve para concatenar dos listas\n",
    "* El operador `:`, en cambio, sirve para agregar elementos antes de las listas\n"
   ]
  },
  {
   "cell_type": "code",
   "execution_count": 21,
   "id": "a4b8bb99",
   "metadata": {},
   "outputs": [
    {
     "data": {
      "text/plain": [
       "[1,2,3]"
      ]
     },
     "metadata": {},
     "output_type": "display_data"
    },
    {
     "data": {
      "text/plain": [
       "[2,3,8,7]"
      ]
     },
     "metadata": {},
     "output_type": "display_data"
    }
   ],
   "source": [
    "x = 1\n",
    "xs = [2, 3]\n",
    "\n",
    "y = 9\n",
    "ys = [8, 7]\n",
    "{-\n",
    "x:xs    -- válido\n",
    "x++xs   -- no válido\n",
    "\n",
    "xs:ys   -- no válido\n",
    "xs++ys  -- válido\n",
    "-}\n",
    "x:xs\n",
    "xs++ys"
   ]
  },
  {
   "attachments": {},
   "cell_type": "markdown",
   "id": "2850004a",
   "metadata": {},
   "source": [
    "### Ejercicios:\n",
    "\n",
    "1. Hacer funciones para manejo de Cola (`enqueue` / `dequeue`)\n",
    "2. Hacer funciones para manejo de Pila (`push` / `pop`)\n",
    "\n",
    "#### Pistas\n",
    "\n",
    "```haskell\n",
    "-- cola\n",
    "enqueue :: a -> [a] -> [a]\n",
    "dequeue :: [a] -> (a, [a])\n",
    "\n",
    "-- pila\n",
    "push :: a -> [a] -> [a]\n",
    "pop :: [a] -> (a, [a])\n",
    "```\n",
    "\n",
    "### Resoluciones\n"
   ]
  },
  {
   "cell_type": "code",
   "execution_count": 22,
   "id": "d8942010",
   "metadata": {},
   "outputs": [
    {
     "data": {
      "text/plain": [
       "[1,2,3,9]"
      ]
     },
     "metadata": {},
     "output_type": "display_data"
    },
    {
     "data": {
      "text/plain": [
       "[4]"
      ]
     },
     "metadata": {},
     "output_type": "display_data"
    }
   ],
   "source": [
    "\n",
    "-- cola\n",
    "enqueue :: a -> [a] -> [a]\n",
    "enqueue x xs = xs++[x]\n",
    "\n",
    "enqueue 9 [1, 2, 3]\n",
    "enqueue 4 []"
   ]
  },
  {
   "cell_type": "code",
   "execution_count": 23,
   "id": "75cdf4ab",
   "metadata": {},
   "outputs": [
    {
     "data": {
      "text/plain": [
       "(1,[2,3,4])"
      ]
     },
     "metadata": {},
     "output_type": "display_data"
    }
   ],
   "source": [
    "-- cola\n",
    "dequeue :: [a] -> (a, [a])\n",
    "dequeue (x:xs) = (x, xs)\n",
    "dequeue [] = error \"cola vacia\"\n",
    "\n",
    "dequeue [1, 2, 3, 4]\n",
    "--dequeue []"
   ]
  },
  {
   "cell_type": "code",
   "execution_count": 24,
   "id": "22de8e10",
   "metadata": {},
   "outputs": [
    {
     "data": {
      "text/plain": [
       "[9,1,2,3]"
      ]
     },
     "metadata": {},
     "output_type": "display_data"
    },
    {
     "data": {
      "text/plain": [
       "[3]"
      ]
     },
     "metadata": {},
     "output_type": "display_data"
    }
   ],
   "source": [
    "-- pila\n",
    "push :: a -> [a] -> [a]\n",
    "push x xs = x:xs\n",
    "\n",
    "push 9 [1, 2, 3]\n",
    "push 3 []"
   ]
  },
  {
   "cell_type": "code",
   "execution_count": 25,
   "id": "cf45d123",
   "metadata": {},
   "outputs": [
    {
     "ename": "",
     "evalue": "",
     "output_type": "error",
     "traceback": [
      "<interactive>:2:11: error:\n    • No instance for (Num a) arising from a use of ‘x’\n      Possible fix:\n        add (Num a) to the context of\n          the type signature for:\n            pop :: forall a. [a] -> (a, [a])\n    • In the expression: x\n      In the expression: (x, xs)\n      In an equation for ‘pop’: pop xs = (x, xs)"
     ]
    }
   ],
   "source": [
    "-- pila\n",
    "pop :: [a] -> (a, [a])\n",
    "pop xs = (x, xs)\n",
    "pop [] = error \"pila vacia\"\n",
    "\n",
    "pop [1, 2, 3, 4]\n",
    "-- pop []"
   ]
  },
  {
   "attachments": {},
   "cell_type": "markdown",
   "id": "e3e13191",
   "metadata": {},
   "source": [
    "## Parte 3: La difícil\n",
    "\n",
    "### Currying\n",
    "\n",
    "Es el proceso de transformar una función de múltiples argumentos en una secuencia de funciones que toman un solo argumento. Esto permite la aplicación parcial de argumentos y la creación de funciones más genéricas y flexibles.\n"
   ]
  },
  {
   "cell_type": "code",
   "execution_count": null,
   "id": "223604de",
   "metadata": {},
   "outputs": [],
   "source": [
    "-- function :: Int -> Int -> Int\n",
    "function x y = x + y\n",
    "\n",
    "-- fun :: Int -> Int\n",
    "-- fun y = function 3 y\n",
    "fun = function 3\n",
    "\n",
    "fun 2"
   ]
  },
  {
   "attachments": {},
   "cell_type": "markdown",
   "id": "2fced0f7",
   "metadata": {},
   "source": [
    "### Currying: Un ejemplo práctico\n"
   ]
  },
  {
   "cell_type": "code",
   "execution_count": null,
   "id": "cf6d06a6",
   "metadata": {},
   "outputs": [],
   "source": [
    "sumar x y = x + y\n",
    "incrementar = sumar 1\n",
    "\n",
    "incrementar 10"
   ]
  },
  {
   "attachments": {},
   "cell_type": "markdown",
   "id": "a503e0e0",
   "metadata": {},
   "source": [
    "En el intérprete vemos...\n"
   ]
  },
  {
   "cell_type": "code",
   "execution_count": null,
   "id": "bbdfd0ce",
   "metadata": {},
   "outputs": [],
   "source": [
    "sumar x y = x + y\n",
    "\n",
    ":type sumar"
   ]
  },
  {
   "cell_type": "code",
   "execution_count": null,
   "id": "546496f6",
   "metadata": {},
   "outputs": [],
   "source": [
    "sumar x y = x + y\n",
    "incrementar = sumar 1\n",
    "\n",
    ":type incrementar"
   ]
  },
  {
   "attachments": {},
   "cell_type": "markdown",
   "id": "d0f937ab",
   "metadata": {},
   "source": [
    "### Otro ejemplo"
   ]
  },
  {
   "cell_type": "code",
   "execution_count": null,
   "id": "7ecc3f9a",
   "metadata": {},
   "outputs": [],
   "source": [
    "incrementar x = x + 1\n",
    "\n",
    "twice :: (a -> a) -> a -> a\n",
    "twice f x = f (f x)\n",
    "\n",
    "twice incrementar 0"
   ]
  },
  {
   "attachments": {},
   "cell_type": "markdown",
   "id": "277533e2",
   "metadata": {},
   "source": [
    "## Referencias\n",
    "\n",
    "1. Lipovača, M. (2011). Learn You a Haskell for Great Good! Recuperado de http://www.learnyouahaskell.com. Accedido por última vez el 2023-06-05."
   ]
  }
 ],
 "metadata": {
  "kernelspec": {
   "display_name": "Haskell",
   "language": "haskell",
   "name": "haskell"
  },
  "language_info": {
   "codemirror_mode": "ihaskell",
   "file_extension": ".hs",
   "mimetype": "text/x-haskell",
   "name": "haskell",
   "pygments_lexer": "Haskell",
   "version": "9.4.5"
  }
 },
 "nbformat": 4,
 "nbformat_minor": 5
}
